{
 "cells": [
  {
   "cell_type": "code",
   "execution_count": 108,
   "metadata": {},
   "outputs": [],
   "source": [
    "import csv\n",
    "import numpy as np\n",
    "file = open('teste.csv')\n",
    "csvreader = csv.reader(file)\n",
    "file2 = open('testeC.csv')\n",
    "csvreader2 = csv.reader(file2)"
   ]
  },
  {
   "cell_type": "code",
   "execution_count": 109,
   "metadata": {},
   "outputs": [],
   "source": [
    "\n",
    "points = []\n",
    "for row in csvreader:\n",
    "    points.append(row[0:2])\n",
    "\n",
    "points = np.array(points)\n",
    "points = points.astype(np.int)\n",
    "\n",
    "pointsC = []\n",
    "for row in csvreader2:\n",
    "    pointsC.append(row[0:2])\n",
    "\n",
    "pointsC = np.array(pointsC)\n",
    "pointsC = pointsC.astype(np.int)"
   ]
  },
  {
   "cell_type": "code",
   "execution_count": 110,
   "metadata": {},
   "outputs": [
    {
     "data": {
      "image/png": "[encoded data removed]",
      "text/plain": [
       "<Figure size 432x288 with 1 Axes>"
      ]
     },
     "metadata": {
      "needs_background": "light"
     },
     "output_type": "display_data"
    }
   ],
   "source": [
    "import matplotlib.pyplot as plt\n",
    "plt.scatter(points[:, 0], points[:, 1])\n",
    "plt.scatter(pointsC[:, 0], pointsC[:, 1])\n",
    "plt.show()\n"
   ]
  },
  {
   "cell_type": "code",
   "execution_count": 111,
   "metadata": {},
   "outputs": [
    {
     "data": {
      "text/plain": [
       "array([[ 48,  49],\n",
       "       [ 50,  51],\n",
       "       [ 52,  53],\n",
       "       [ 54,  55],\n",
       "       [ 48,  49],\n",
       "       [ 50,  51],\n",
       "       [ 52,  53],\n",
       "       [ 54,  55],\n",
       "       [ 97,  98],\n",
       "       [ 99, 100],\n",
       "       [101, 102],\n",
       "       [103, 104],\n",
       "       [ 97,  98],\n",
       "       [ 99, 100],\n",
       "       [101, 102],\n",
       "       [103, 104],\n",
       "       [ 48,  49],\n",
       "       [ 50,  51],\n",
       "       [ 52,  53],\n",
       "       [ 54,  55],\n",
       "       [ 48,  49],\n",
       "       [ 50,  51],\n",
       "       [ 52,  53],\n",
       "       [ 54,  55],\n",
       "       [ 97,  98],\n",
       "       [ 99, 100],\n",
       "       [101, 102],\n",
       "       [103, 104],\n",
       "       [ 97,  98],\n",
       "       [ 99, 100],\n",
       "       [101, 102],\n",
       "       [103, 104]])"
      ]
     },
     "execution_count": 111,
     "metadata": {},
     "output_type": "execute_result"
    }
   ],
   "source": [
    "points"
   ]
  }
 ],
 "metadata": {
  "kernelspec": {
   "display_name": "Python 3",
   "language": "python",
   "name": "python3"
  },
  "language_info": {
   "codemirror_mode": {
    "name": "ipython",
    "version": 3
   },
   "file_extension": ".py",
   "mimetype": "text/x-python",
   "name": "python",
   "nbconvert_exporter": "python",
   "pygments_lexer": "ipython3",
   "version": "3.7.1"
  }
 },
 "nbformat": 4,
 "nbformat_minor": 2
}
