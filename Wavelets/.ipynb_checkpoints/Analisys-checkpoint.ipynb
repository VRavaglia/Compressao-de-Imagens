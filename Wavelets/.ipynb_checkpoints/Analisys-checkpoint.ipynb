{
 "cells": [
  {
   "cell_type": "code",
   "execution_count": 70,
   "id": "sexual-inside",
   "metadata": {},
   "outputs": [],
   "source": [
    "from os import walk\n",
    "testpath = 'imagens_vq/teste'\n",
    "testimgs = next(walk(testpath), (None, None, []))[2]\n",
    "encpath = 'imagens_vq/enc'\n",
    "encimgs = next(walk(encpath), (None, None, []))[2]\n",
    "decpath = 'imagens_vq/dec'\n",
    "decimgs = next(walk(decpath), (None, None, []))[2]"
   ]
  },
  {
   "cell_type": "code",
   "execution_count": 71,
   "id": "wound-submission",
   "metadata": {},
   "outputs": [],
   "source": [
    "imgsizes = [720*576, 256*256, 720*576, 512*512, 512*512]"
   ]
  },
  {
   "cell_type": "code",
   "execution_count": 72,
   "id": "united-airline",
   "metadata": {},
   "outputs": [],
   "source": [
    "lambdas = [1.0, 100.0]"
   ]
  },
  {
   "cell_type": "code",
   "execution_count": 73,
   "id": "scheduled-blood",
   "metadata": {},
   "outputs": [],
   "source": [
    "encimgs_l = []\n",
    "decimgs_l = []\n",
    "\n",
    "for l in lambdas:\n",
    "    temp = []\n",
    "    for img in encimgs:\n",
    "        spl = img.split(\"_\")\n",
    "        last = spl[len(spl) - 1]\n",
    "        img_l = last[:len(last)-9].replace(\"t\", \"0\")\n",
    "        if(l == float(img_l)):\n",
    "            temp.append(img)\n",
    "    encimgs_l.append(temp)\n",
    "    \n",
    "    temp = []\n",
    "    for img in decimgs:\n",
    "        spl = img.split(\"_\")\n",
    "        last = spl[len(spl) - 1]\n",
    "        img_l = last[:len(last)-9].replace(\"p\", \"0\")\n",
    "        if(l == float(img_l)):\n",
    "            temp.append(img)\n",
    "    decimgs_l.append(temp)\n",
    "        "
   ]
  },
  {
   "cell_type": "code",
   "execution_count": 74,
   "id": "incredible-fitting",
   "metadata": {},
   "outputs": [],
   "source": [
    "import os\n",
    "import numpy as np\n",
    "\n",
    "compressions = []\n",
    "\n",
    "for l in range(0, len(lambdas)):\n",
    "    temp = []\n",
    "    for img in range(0, len(testimgs)):\n",
    "        orig_size = os.path.getsize(testpath + \"/\" + testimgs[img])\n",
    "        enc_size = os.path.getsize(encpath + \"/\" + encimgs_l[l][img])\n",
    "        temp.append(orig_size/enc_size)\n",
    "    compressions.append(np.mean(temp))    "
   ]
  },
  {
   "cell_type": "code",
   "execution_count": 75,
   "id": "resident-village",
   "metadata": {},
   "outputs": [
    {
     "data": {
      "text/plain": [
       "[14.513353251734552, 20.944992148449227]"
      ]
     },
     "execution_count": 75,
     "metadata": {},
     "output_type": "execute_result"
    }
   ],
   "source": [
    "compressions"
   ]
  },
  {
   "cell_type": "code",
   "execution_count": 76,
   "id": "indian-treatment",
   "metadata": {},
   "outputs": [],
   "source": [
    "import os\n",
    "\n",
    "Rs = []\n",
    "\n",
    "for l in range(0, len(lambdas)):\n",
    "    temp = []\n",
    "    for img in range(0, len(testimgs)):     \n",
    "        enc_size = os.path.getsize(encpath + \"/\" + encimgs_l[l][img])*8\n",
    "        R = enc_size/imgsizes[img]\n",
    "        temp.append(R)\n",
    "    Rs.append(np.mean(temp))    "
   ]
  },
  {
   "cell_type": "code",
   "execution_count": 77,
   "id": "perfect-elimination",
   "metadata": {},
   "outputs": [
    {
     "data": {
      "text/plain": [
       "[0.5520727388358411, 0.39548835660204473]"
      ]
     },
     "execution_count": 77,
     "metadata": {},
     "output_type": "execute_result"
    }
   ],
   "source": [
    "Rs"
   ]
  },
  {
   "cell_type": "code",
   "execution_count": 78,
   "id": "expected-blade",
   "metadata": {},
   "outputs": [],
   "source": [
    "import cv2\n",
    "PSNRs = []\n",
    "for l in range(0, len(lambdas)):\n",
    "    temp = []\n",
    "    for img in range(0, len(testimgs)):\n",
    "        img1 = cv2.imread(testpath + \"/\" + testimgs[img])\n",
    "        img2 = cv2.imread(decpath + \"/\" + decimgs_l[l][img])\n",
    "        psnr = cv2.PSNR(img1, img2)\n",
    "        temp.append(psnr)\n",
    "    PSNRs.append(np.mean(temp))    "
   ]
  },
  {
   "cell_type": "code",
   "execution_count": 79,
   "id": "crucial-package",
   "metadata": {},
   "outputs": [
    {
     "data": {
      "text/plain": [
       "[23.452588845159926, 21.63115334355342]"
      ]
     },
     "execution_count": 79,
     "metadata": {},
     "output_type": "execute_result"
    }
   ],
   "source": [
    "PSNRs"
   ]
  },
  {
   "cell_type": "code",
   "execution_count": null,
   "id": "prospective-reaction",
   "metadata": {},
   "outputs": [],
   "source": []
  }
 ],
 "metadata": {
  "kernelspec": {
   "display_name": "Python 3",
   "language": "python",
   "name": "python3"
  },
  "language_info": {
   "codemirror_mode": {
    "name": "ipython",
    "version": 3
   },
   "file_extension": ".py",
   "mimetype": "text/x-python",
   "name": "python",
   "nbconvert_exporter": "python",
   "pygments_lexer": "ipython3",
   "version": "3.8.7"
  }
 },
 "nbformat": 4,
 "nbformat_minor": 5
}
