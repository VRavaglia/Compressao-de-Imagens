{
 "cells": [
  {
   "cell_type": "code",
   "execution_count": 33,
   "id": "special-nutrition",
   "metadata": {},
   "outputs": [
    {
     "name": "stdout",
     "output_type": "stream",
     "text": [
      "PSNR:  25.59860677929873\n",
      "R:  0.8837890625\n"
     ]
    }
   ],
   "source": [
    "import cv2\n",
    "import os\n",
    "import numpy as np\n",
    "img1 = cv2.imread('./imagens_vq/enc/cameraman.pgm_encoded_100.000000.txt_dec.pgm')\n",
    "img2 = cv2.imread('./imagens_vq/teste/cameraman.pgm')\n",
    "psnr = cv2.PSNR(img1, img2)\n",
    "enc_size = os.path.getsize('./imagens_vq/enc/cameraman.pgm_encoded_100.000000.txt')*8\n",
    "R = enc_size/img2.shape[0]/img2.shape[1]\n",
    "print(\"PSNR: \", psnr)\n",
    "print(\"R: \", R)"
   ]
  }
 ],
 "metadata": {
  "kernelspec": {
   "display_name": "Python 3",
   "language": "python",
   "name": "python3"
  },
  "language_info": {
   "codemirror_mode": {
    "name": "ipython",
    "version": 3
   },
   "file_extension": ".py",
   "mimetype": "text/x-python",
   "name": "python",
   "nbconvert_exporter": "python",
   "pygments_lexer": "ipython3",
   "version": "3.8.7"
  }
 },
 "nbformat": 4,
 "nbformat_minor": 5
}
